{
 "cells": [
  {
   "cell_type": "markdown",
   "metadata": {},
   "source": [
    "This notebook shows how to use Smoothie. \n",
    "\n",
    "What you will need for a given task:\n",
    "* The list of sample inputs (`test_inputs`). In this tutorial, we load this from a jsonl file in `smoothie_data`.\n",
    "* A set of models to route among, namely their generations for `test_inputs`. In this tutorial, we have previously saved different model generations in separate jsonl files, and we load and concatenate them to form a numpy array `test_generations` (of size `n_samples` x `n_models`).\n",
    "\n",
    "\n",
    "We will walk through an example on CNN dailymail. To follow along, make sure you download `smoothie_data` from Huggingface, `cd` into the directory, and do `git lfs pull`.\n",
    "\n",
    "If interested in the mathematical details of the Smoothie algorithm, please see `algorithm.ipynb`."
   ]
  },
  {
   "cell_type": "code",
   "execution_count": 2,
   "metadata": {},
   "outputs": [
    {
     "ename": "ModuleNotFoundError",
     "evalue": "No module named 'jsonlines'",
     "output_type": "error",
     "traceback": [
      "\u001b[0;31m---------------------------------------------------------------------------\u001b[0m",
      "\u001b[0;31mModuleNotFoundError\u001b[0m                       Traceback (most recent call last)",
      "\u001b[1;32m/scr/biggest/achau774/smoothie_self-improvement/tutorials/tutorial.ipynb Cell 2\u001b[0m line \u001b[0;36m1\n\u001b[0;32m----> <a href='vscode-notebook-cell://ssh-remote%2Bhazy1/scr/biggest/achau774/smoothie_self-improvement/tutorials/tutorial.ipynb#W1sdnNjb2RlLXJlbW90ZQ%3D%3D?line=0'>1</a>\u001b[0m \u001b[39mimport\u001b[39;00m \u001b[39mjsonlines\u001b[39;00m\n\u001b[1;32m      <a href='vscode-notebook-cell://ssh-remote%2Bhazy1/scr/biggest/achau774/smoothie_self-improvement/tutorials/tutorial.ipynb#W1sdnNjb2RlLXJlbW90ZQ%3D%3D?line=1'>2</a>\u001b[0m \u001b[39mimport\u001b[39;00m \u001b[39mjson\u001b[39;00m \n\u001b[1;32m      <a href='vscode-notebook-cell://ssh-remote%2Bhazy1/scr/biggest/achau774/smoothie_self-improvement/tutorials/tutorial.ipynb#W1sdnNjb2RlLXJlbW90ZQ%3D%3D?line=2'>3</a>\u001b[0m \u001b[39mimport\u001b[39;00m \u001b[39mnumpy\u001b[39;00m \u001b[39mas\u001b[39;00m \u001b[39mnp\u001b[39;00m\n",
      "\u001b[0;31mModuleNotFoundError\u001b[0m: No module named 'jsonlines'"
     ]
    }
   ],
   "source": [
    "import jsonlines\n",
    "import json \n",
    "import numpy as np\n",
    "from sentence_transformers import SentenceTransformer\n",
    "from fastembed import TextEmbedding\n",
    "from sklearn.neighbors import NearestNeighbors\n",
    "\n",
    "import sys \n",
    "sys.path.append(\"..\")\n",
    "from src.model import Smoothie"
   ]
  },
  {
   "cell_type": "markdown",
   "metadata": {},
   "source": [
    "Load and format data"
   ]
  },
  {
   "cell_type": "code",
   "execution_count": null,
   "metadata": {},
   "outputs": [],
   "source": [
    "# load test_inputs for the task \n",
    "with jsonlines.open(\"tutorial_data/datasets/cnn_dailymail_test.jsonl\") as file: \n",
    "    test_dataset = list(file.iter())\n",
    "test_inputs = [sample['embedding_input'] for sample in test_dataset] # get the raw inputs for the task (no formatting)\n",
    "\n",
    "n_samples = len(test_inputs)"
   ]
  },
  {
   "cell_type": "code",
   "execution_count": null,
   "metadata": {},
   "outputs": [],
   "source": [
    "# load test_generations, numpy array (n_samples x n_models) of generations\n",
    "\n",
    "models = [\"mistral-7b\", \"llama-2-7b\", \"vicuna-7b\", \"gemma-7b\", \"nous-capybara\"]\n",
    "n_models = len(models)\n",
    "test_generations = []\n",
    "for model in models:\n",
    "    predictions_path = f\"tutorial_data/generations/cnn_dailymail/{model}_test.json\"\n",
    "    with open(predictions_path, \"r\") as f:\n",
    "        test_generations.append(json.load(f)['generations'])\n",
    "\n",
    "test_generations = np.array(test_generations).T"
   ]
  },
  {
   "cell_type": "code",
   "execution_count": null,
   "metadata": {},
   "outputs": [],
   "source": [
    "# embed test_inputs for sample-dependent routing \n",
    "# this is used for Smoothie-dependent, in KNN to determine which samples should be used to learn the Smoothie weights for a given test sample \n",
    "\n",
    "model_name = \"all-mpnet-base-v2\"\n",
    "model = SentenceTransformer(model_name)\n",
    "\n",
    "test_input_embeddings = model.encode(test_inputs)\n"
   ]
  },
  {
   "cell_type": "code",
   "execution_count": null,
   "metadata": {},
   "outputs": [],
   "source": [
    "# embed test_generations --- these are the embeddings used in the main Smoothie algorithm\n",
    "def clean_generation(generation: str):\n",
    "    \"\"\"\n",
    "    Extracts a generation from the full output of the model.\n",
    "    \"\"\"\n",
    "    generation = generation.replace(\"<pad>\", \"\")\n",
    "    generation = generation.replace(\"<s>\", \"\")\n",
    "    generation = generation.replace(\"</s>\", \"\")\n",
    "    generation = generation.replace(\"</eos>\", \"\")\n",
    "    generation = generation.replace(\"\\\\n\", \"\\n\")\n",
    "    return generation.strip().split(\"\\n\")[0]\n",
    "\n",
    "cleaned_test_generations = np.array([clean_generation(gen) for gens_per_sample in test_generations for gen in gens_per_sample])\n",
    "\n",
    "embedding_model = TextEmbedding(\n",
    "    model_name=\"BAAI/bge-small-en-v1.5\", providers=[\"CUDAExecutionProvider\"]\n",
    ")\n",
    "smoothie_embeddings = np.array(list(embedding_model.embed(cleaned_test_generations))).reshape(n_samples, n_models, -1)\n",
    "embed_dim = smoothie_embeddings.shape[2]"
   ]
  },
  {
   "cell_type": "markdown",
   "metadata": {},
   "source": [
    "Use either smoothie-dependent or smoothie-independent (only run one of the two cells below!)"
   ]
  },
  {
   "cell_type": "code",
   "execution_count": null,
   "metadata": {},
   "outputs": [],
   "source": [
    "# Code for smoothie-dependent\n",
    "# produces smoothie_dataset_weights, an n_samples x n_models numpy array of scores for each generation in test_generations\n",
    "# for smoothie-dependent, each row of weights is different \n",
    "\n",
    "# adjust n_neighbors as you wish\n",
    "nbrs = NearestNeighbors(n_neighbors=20, algorithm=\"auto\")\n",
    "nbrs.fit(test_input_embeddings)\n",
    "_, test_indices = nbrs.kneighbors(test_input_embeddings)\n",
    "\n",
    "smoothie_dataset_weights = []\n",
    "for sample_idx in range(n_samples):\n",
    "    embs_per_sample = smoothie_embeddings[test_indices[sample_idx]]\n",
    "    smoothie = Smoothie(n_voters=n_models, dim=embed_dim)\n",
    "    smoothie.fit(embs_per_sample)\n",
    "    smoothie_dataset_weights.append(smoothie.theta)\n",
    "\n",
    "smoothie_dataset_weights = np.array(smoothie_dataset_weights)"
   ]
  },
  {
   "cell_type": "code",
   "execution_count": null,
   "metadata": {},
   "outputs": [],
   "source": [
    "# Code for smoothie-independent\n",
    "# each row of weights in smoothie_dataset_weights is the same - we just use one model for the dataset.\n",
    "smoothie = Smoothie(n_voters=n_models, dim=embed_dim)\n",
    "smoothie.fit(smoothie_embeddings)\n",
    "smoothie_dataset_weights = np.tile(smoothie.theta, (n_samples, 1))\n"
   ]
  },
  {
   "cell_type": "markdown",
   "metadata": {},
   "source": [
    "Select samples according to smoothie weights"
   ]
  },
  {
   "cell_type": "code",
   "execution_count": null,
   "metadata": {},
   "outputs": [],
   "source": [
    "# finally, select samples according to smoothie weights\n",
    "\n",
    "routed_texts = []\n",
    "routed_models = []\n",
    "\n",
    "for sample_idx in range(n_samples):\n",
    "    max_idx = smoothie_dataset_weights[sample_idx].argmax()\n",
    "    text = test_generations[sample_idx][max_idx]\n",
    "    routed_texts.append(text)\n",
    "    routed_models.append(models[max_idx])"
   ]
  },
  {
   "cell_type": "code",
   "execution_count": null,
   "metadata": {},
   "outputs": [],
   "source": [
    "routed_texts"
   ]
  },
  {
   "cell_type": "code",
   "execution_count": null,
   "metadata": {},
   "outputs": [],
   "source": [
    "routed_models"
   ]
  }
 ],
 "metadata": {
  "kernelspec": {
   "display_name": "mayeeenv",
   "language": "python",
   "name": "python3"
  },
  "language_info": {
   "codemirror_mode": {
    "name": "ipython",
    "version": 3
   },
   "file_extension": ".py",
   "mimetype": "text/x-python",
   "name": "python",
   "nbconvert_exporter": "python",
   "pygments_lexer": "ipython3",
   "version": "3.9.6"
  }
 },
 "nbformat": 4,
 "nbformat_minor": 2
}
